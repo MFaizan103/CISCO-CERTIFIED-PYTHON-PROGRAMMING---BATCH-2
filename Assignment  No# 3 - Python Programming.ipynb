{
 "cells": [
  {
   "cell_type": "code",
   "execution_count": 59,
   "metadata": {},
   "outputs": [
    {
     "name": "stdout",
     "output_type": "stream",
     "text": [
      "Enter 1st Value 1\n",
      "Enter 2nd Value 5\n",
      "Enter Operator +\n",
      "Ans = 6\n"
     ]
    }
   ],
   "source": [
    "#Make a calculator using Python with addition , subtraction , multiplication ,division and power.\n",
    "\n",
    "val1 = int(input(\"Enter 1st Value \"))\n",
    "val2 = int(input(\"Enter 2nd Value \"))\n",
    "operator = input(\"Enter Operator \")\n",
    "\n",
    "if operator == \"+\" :\n",
    "    value = val1 + val2\n",
    "    print(\"Ans =\", value)\n",
    "elif operator == \"-\" :\n",
    "    value = val1 - val2\n",
    "    print(\"Ans =\", value)\n",
    "elif operator == \"*\" :\n",
    "    value = val1 * val2\n",
    "    print(\"Ans =\", value)\n",
    "elif operator == \"/\" :\n",
    "    value = val1 / val2\n",
    "    print(\"Ans =\", value)\n",
    "elif operator == \"**\" :\n",
    "    value = val1 ** val2\n",
    "    print(\"Ans =\", value)\n",
    "else:\n",
    "    print('ERROR! You have entered wrond operator')"
   ]
  },
  {
   "cell_type": "code",
   "execution_count": 56,
   "metadata": {},
   "outputs": [
    {
     "name": "stdout",
     "output_type": "stream",
     "text": [
      "Value 5 is present\n"
     ]
    }
   ],
   "source": [
    "#Write a program to check if there is any numeric value in list using for loop\n",
    "\n",
    "list222 = [1,2,3,4,5,6,8,9,14,\"Karachi\", \"Saddar\"]\n",
    "value_to_search = 5\n",
    "for i in list222:\n",
    "    if i == value_to_search:\n",
    "        print(\"Value\", value_to_search, \"is\", \"present\")"
   ]
  },
  {
   "cell_type": "code",
   "execution_count": 53,
   "metadata": {},
   "outputs": [
    {
     "name": "stdout",
     "output_type": "stream",
     "text": [
      "{'name': 'Faizan', 'lastname': 'Bhatti', 'city': 'Karachi'}\n"
     ]
    }
   ],
   "source": [
    "#Write a Python script to add a key to a dictionary\n",
    "\n",
    "dic = {\"name\":\"Faizan\", \"lastname\":\"Bhatti\"}\n",
    "dic[\"city\"] = \"Karachi\"\n",
    "print(dic)"
   ]
  },
  {
   "cell_type": "code",
   "execution_count": 14,
   "metadata": {},
   "outputs": [
    {
     "name": "stdout",
     "output_type": "stream",
     "text": [
      "200\n"
     ]
    }
   ],
   "source": [
    "#Write a Python program to sum all the numeric items in a dictionary\n",
    "\n",
    "a = {\"accounts\":50, \"maths\":80, \"economics\":70}\n",
    "print(sum(a.values()))\n"
   ]
  },
  {
   "cell_type": "code",
   "execution_count": 39,
   "metadata": {},
   "outputs": [
    {
     "name": "stdout",
     "output_type": "stream",
     "text": [
      "Duplicated value is:  1\n",
      "Duplicated value is:  1\n",
      "Duplicated value is:  4\n",
      "Duplicated value is:  4\n"
     ]
    }
   ],
   "source": [
    "#Write a program to identify duplicate values from list\n",
    "\n",
    "my_list = [\"naseem\", \"umaid\", 1, 1, 0.4, 4, 2, 3, 4, 5, 6]\n",
    "for value in my_list:\n",
    "    if  my_list.count(value) > 1:\n",
    "        print(f\"Duplicated value is:  {value}\")\n"
   ]
  },
  {
   "cell_type": "code",
   "execution_count": 52,
   "metadata": {},
   "outputs": [
    {
     "name": "stdout",
     "output_type": "stream",
     "text": [
      "Enter key to check: Basket\n",
      "Key is already present\n"
     ]
    }
   ],
   "source": [
    "#Write a Python script to check if a given key already exists in a dictionary\n",
    "\n",
    "dictionary = {\"Key\":1, \"Basket\":2, \"Tray\":3}\n",
    "given_key = input(\"Enter key to check: \")\n",
    "\n",
    "for i in dictionary:\n",
    "    if i == given_key:\n",
    "        print(\"Key is already present\")"
   ]
  },
  {
   "cell_type": "code",
   "execution_count": null,
   "metadata": {},
   "outputs": [],
   "source": []
  }
 ],
 "metadata": {
  "kernelspec": {
   "display_name": "Python 3",
   "language": "python",
   "name": "python3"
  },
  "language_info": {
   "codemirror_mode": {
    "name": "ipython",
    "version": 3
   },
   "file_extension": ".py",
   "mimetype": "text/x-python",
   "name": "python",
   "nbconvert_exporter": "python",
   "pygments_lexer": "ipython3",
   "version": "3.7.3"
  }
 },
 "nbformat": 4,
 "nbformat_minor": 2
}

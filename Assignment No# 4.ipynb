{
 "cells": [
  {
   "cell_type": "markdown",
   "metadata": {},
   "source": [
    "# Question 1 "
   ]
  },
  {
   "cell_type": "code",
   "execution_count": 12,
   "metadata": {},
   "outputs": [
    {
     "name": "stdout",
     "output_type": "stream",
     "text": [
      "{'first_name': 'Rziwan', 'last_name': 'Naseem', 'age': '18', 'city': 'Karachi'}\n",
      "{'first_name': 'Rziwan', 'last_name': 'Naseem', 'age': '18', 'city': 'Karachi', 'qualification': 'Matric'}\n",
      "{'first_name': 'Rziwan', 'last_name': 'Naseem', 'age': '18', 'city': 'Karachi'}\n"
     ]
    }
   ],
   "source": [
    "bio_data = {\"first_name\":\"Rziwan\", \"last_name\":\"Naseem\", \"age\":\"18\", \"city\":\"Karachi\"}\n",
    "print(bio_data)\n",
    "bio_data[\"qualification\"] = \"Matric\"\n",
    "print(bio_data)\n",
    "del bio_data[\"qualification\"]\n",
    "print(bio_data)"
   ]
  },
  {
   "cell_type": "markdown",
   "metadata": {},
   "source": [
    "# Question 2"
   ]
  },
  {
   "cell_type": "code",
   "execution_count": 36,
   "metadata": {},
   "outputs": [
    {
     "name": "stdout",
     "output_type": "stream",
     "text": [
      "Pakistan\n"
     ]
    }
   ],
   "source": [
    "cities = {\"Karachi\", \"Lahore\", \"Peshawar\"}\n"
   ]
  },
  {
   "cell_type": "code",
   "execution_count": 37,
   "metadata": {},
   "outputs": [
    {
     "name": "stdout",
     "output_type": "stream",
     "text": [
      "Karachi {'Country': 'Pakistan', 'Population': '2 Million', 'Fact': 'Highest Revenue Genrator City Of Pakistan'}\n",
      "Lahore {'Country': 'Pakistan', 'Population': '1 Million', 'Fact': 'City of Food Lovers'}\n",
      "Peshawar {'Country': 'Pakistan', 'Poputlaion': '500 Thousand', 'Fact': 'Peshawar also known as City of Flowers'}\n"
     ]
    }
   ],
   "source": [
    "cities = {\"Karachi\":{\"Country\":\"Pakistan\", \"Population\":\"2 Million\", \"Fact\": \"Highest Revenue Genrator City Of Pakistan\" }, \"Lahore\":{\"Country\":\"Pakistan\", \"Population\":\"1 Million\", \"Fact\": \"City of Food Lovers\"}, \"Peshawar\":{\"Country\":\"Pakistan\", \"Poputlaion\":\"500 Thousand\", \"Fact\":\"Peshawar also known as City of Flowers\"}}\n",
    "for each_city, each_info in cities.items():\n",
    "    print(each_city, each_info)"
   ]
  },
  {
   "cell_type": "markdown",
   "metadata": {},
   "source": [
    "# Question 3"
   ]
  },
  {
   "cell_type": "code",
   "execution_count": 9,
   "metadata": {},
   "outputs": [
    {
     "name": "stdout",
     "output_type": "stream",
     "text": [
      "please enter your age = 1\n",
      "Ticket is Free for Under 3 years Old\n"
     ]
    }
   ],
   "source": [
    "age = int(input(\"please enter your age = \"))\n",
    "while True:\n",
    "    if age <= 3:\n",
    "        print(\"Ticket is Free for Under 3 years Old\")\n",
    "        break\n",
    "    elif age < 12:\n",
    "        print(\"Ticket is $10\")\n",
    "        break\n",
    "    elif age > 12:\n",
    "        print(\"Ticke is $15\")\n",
    "        break"
   ]
  },
  {
   "cell_type": "markdown",
   "metadata": {},
   "source": [
    "# Question 4"
   ]
  },
  {
   "cell_type": "code",
   "execution_count": 17,
   "metadata": {},
   "outputs": [],
   "source": [
    "def favorite_book(title = \"Alice in Wonderland\"):\n",
    "    return \"My Favourite Book is \" + title"
   ]
  },
  {
   "cell_type": "code",
   "execution_count": 18,
   "metadata": {},
   "outputs": [
    {
     "data": {
      "text/plain": [
       "'My Favourite Book is Alice in Wonderland'"
      ]
     },
     "execution_count": 18,
     "metadata": {},
     "output_type": "execute_result"
    }
   ],
   "source": [
    "favorite_book()"
   ]
  },
  {
   "cell_type": "markdown",
   "metadata": {},
   "source": [
    "# Question 5"
   ]
  },
  {
   "cell_type": "code",
   "execution_count": 4,
   "metadata": {},
   "outputs": [
    {
     "name": "stdout",
     "output_type": "stream",
     "text": [
      "Guess: 5\n",
      "Hint: Num is greater than 20 & Less than 30\n",
      "Guess: 6\n",
      "Hint: Num is greater than 20 & Less than 30\n",
      "Guess: 25\n",
      "Congrats You Won!\n"
     ]
    }
   ],
   "source": [
    "secret_num = 25\n",
    "guess_count = 0\n",
    "guess_limit = 3\n",
    "while guess_count < guess_limit:\n",
    "    guess = int(input(\"Guess: \"))\n",
    "    guess_count += 1\n",
    "    if guess_count <3:\n",
    "        print(\"Hint: Num is greater than 20 & Less than 30\")\n",
    "    if secret_num == guess:\n",
    "        print('Congrats You Won!')\n",
    "        break\n",
    "else:\n",
    "    print('Sorry you have Failed')"
   ]
  },
  {
   "cell_type": "code",
   "execution_count": null,
   "metadata": {},
   "outputs": [],
   "source": []
  },
  {
   "cell_type": "code",
   "execution_count": null,
   "metadata": {},
   "outputs": [],
   "source": []
  }
 ],
 "metadata": {
  "kernelspec": {
   "display_name": "Python 3",
   "language": "python",
   "name": "python3"
  },
  "language_info": {
   "codemirror_mode": {
    "name": "ipython",
    "version": 3
   },
   "file_extension": ".py",
   "mimetype": "text/x-python",
   "name": "python",
   "nbconvert_exporter": "python",
   "pygments_lexer": "ipython3",
   "version": "3.7.3"
  }
 },
 "nbformat": 4,
 "nbformat_minor": 2
}

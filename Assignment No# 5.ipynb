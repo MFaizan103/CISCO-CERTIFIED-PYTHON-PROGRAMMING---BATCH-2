{
 "cells": [
  {
   "cell_type": "code",
   "execution_count": 7,
   "metadata": {},
   "outputs": [
    {
     "name": "stdout",
     "output_type": "stream",
     "text": [
      "Please Enter Your number: 8\n",
      "40320\n"
     ]
    }
   ],
   "source": [
    "#Question No 1\n",
    "\n",
    "''' Write a Python function to calculate the factorial of a number (a non-negative\n",
    "    integer). The function accepts the number as an argument.'''\n",
    "\n",
    "def factorial(num):\n",
    "    if num == 0:\n",
    "        return 1\n",
    "    else:\n",
    "        return num * factorial(num-1)\n",
    "num = int(input(\"Please Enter Your number: \" ))\n",
    "print(factorial(num))"
   ]
  },
  {
   "cell_type": "code",
   "execution_count": 1,
   "metadata": {},
   "outputs": [
    {
     "name": "stdout",
     "output_type": "stream",
     "text": [
      "STRING :  Pakistan is BEautifUL\n",
      "No. of Upper case characters :  5\n",
      "No. of Lower case Characters :  14\n"
     ]
    }
   ],
   "source": [
    "#Question No 2\n",
    "'''Write a Python function that accepts a string and calculate the number of upper\n",
    "case letters and lower case letters.'''\n",
    "\n",
    "def string(name):\n",
    "    a = {\"Capital\":0, \"Small\":0}\n",
    "    for letters in name:\n",
    "        if letters.isupper():\n",
    "               a[\"Capital\"] +=1\n",
    "        elif letters.islower():\n",
    "               a[\"Small\"] +=1\n",
    "        else:\n",
    "            pass\n",
    "    print (\"STRING : \", name)\n",
    "    print (\"No. of Upper case characters : \", a[\"Capital\"])\n",
    "    print (\"No. of Lower case Characters : \", a[\"Small\"])\n",
    "\n",
    "string('Pakistan is BEautifUL')"
   ]
  },
  {
   "cell_type": "code",
   "execution_count": 6,
   "metadata": {},
   "outputs": [
    {
     "name": "stdout",
     "output_type": "stream",
     "text": [
      "[2, 4, 6, 8]\n"
     ]
    }
   ],
   "source": [
    "#Question No#3\n",
    "'''Write a Python function to print the even numbers from a given list.'''\n",
    "\n",
    "def even_num(a):\n",
    "    num = []\n",
    "    for n in a :\n",
    "        if n % 2 == 0:\n",
    "            num.append(n)\n",
    "    return num\n",
    "print(even_num([1, 2, 3, 4, 5, 6, 7, 8, 9]))"
   ]
  },
  {
   "cell_type": "code",
   "execution_count": 12,
   "metadata": {},
   "outputs": [
    {
     "name": "stdout",
     "output_type": "stream",
     "text": [
      "True\n"
     ]
    }
   ],
   "source": [
    "#Question No# 4\n",
    "\n",
    "'''Write a Python function that checks whether a passed string is palindrome or not.\n",
    "Note: A palindrome is a word, phrase, or sequence that reads the same\n",
    "backward as forward, e.g., madam'''\n",
    "\n",
    "def palindrom(s):\n",
    "    left_word = 0\n",
    "    right_word = len(s)-1\n",
    "    \n",
    "    while right_word >= left_word:\n",
    "        if not s [left_word] == s[right_word]:\n",
    "            return False\n",
    "        left_word += 1\n",
    "        right_word -= 1\n",
    "    return True\n",
    "print(palindrom(\"madam\"))"
   ]
  },
  {
   "cell_type": "code",
   "execution_count": 13,
   "metadata": {},
   "outputs": [
    {
     "name": "stdout",
     "output_type": "stream",
     "text": [
      "False\n"
     ]
    }
   ],
   "source": [
    "#Question No# 5\n",
    "\n",
    "'''Write a Python function that takes a number as a parameter and check the\n",
    "number is prime or not.'''\n",
    "\n",
    "def prime(num):\n",
    "    if (num == 1):\n",
    "        return False\n",
    "    elif (num == 2):\n",
    "        return True\n",
    "    else:\n",
    "        for p in range(2,num):\n",
    "            if(num % p == 0):\n",
    "                return False\n",
    "        return True             \n",
    "print(prime(9))"
   ]
  },
  {
   "cell_type": "code",
   "execution_count": 15,
   "metadata": {},
   "outputs": [
    {
     "name": "stdout",
     "output_type": "stream",
     "text": [
      "Juice\n",
      "Fruits\n",
      "Bread\n"
     ]
    }
   ],
   "source": [
    "#Question No# 6\n",
    "'''Write a function which accepts the multiple arguments of user shopping list and\n",
    "print all the items which user bought from market.'''\n",
    "def shopping_list(*args):\n",
    "    for items in args:\n",
    "        print(items)\n",
    "        \n",
    "shopping_list(\"Juice\", \"Fruits\", \"Bread\")"
   ]
  },
  {
   "cell_type": "code",
   "execution_count": null,
   "metadata": {},
   "outputs": [],
   "source": []
  },
  {
   "cell_type": "code",
   "execution_count": null,
   "metadata": {},
   "outputs": [],
   "source": []
  }
 ],
 "metadata": {
  "kernelspec": {
   "display_name": "Python 3",
   "language": "python",
   "name": "python3"
  },
  "language_info": {
   "codemirror_mode": {
    "name": "ipython",
    "version": 3
   },
   "file_extension": ".py",
   "mimetype": "text/x-python",
   "name": "python",
   "nbconvert_exporter": "python",
   "pygments_lexer": "ipython3",
   "version": "3.7.3"
  }
 },
 "nbformat": 4,
 "nbformat_minor": 2
}

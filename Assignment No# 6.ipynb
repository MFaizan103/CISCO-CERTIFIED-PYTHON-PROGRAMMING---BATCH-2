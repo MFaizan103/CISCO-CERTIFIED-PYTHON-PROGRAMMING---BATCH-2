{
 "cells": [
  {
   "cell_type": "markdown",
   "metadata": {},
   "source": [
    "#Question 1\n",
    "\n",
    "Object-oriented programming: As the name suggests, Object-Oriented Programming or OOPs refers to languages that uses objects in programming. Object-oriented programming aims to implement real-world entities like inheritance, hiding, polymorphism etc in programming. The main aim of OOP is to bind together the data and the functions that operate on them so that no other part of the code can access this data except that function.\n",
    "\n",
    "OOPs Concepts:\n",
    "\n",
    "1) Polymorphism\n",
    "2) Inheritance\n",
    "3) Encapsulation\n",
    "4) Abstraction\n",
    "5) Class\n",
    "6) Object\n",
    "7) Method\n",
    "8) Message Passing"
   ]
  },
  {
   "cell_type": "markdown",
   "metadata": {},
   "source": [
    "#Question 2\n",
    "\n",
    "1. Modularity for easier troubleshooting\n",
    "2. Reuse of code through inheritance\n",
    "3. Flexibility through polymorphism\n",
    "4. Effective problem solving"
   ]
  },
  {
   "cell_type": "markdown",
   "metadata": {},
   "source": [
    "#Question 3\n",
    "\n",
    "##Functions\n",
    "\n",
    "Function is block of code that is also called by its name. (independent)\n",
    "The function can have different parameters or may not have any at all. If any data (parameters) are passed, they are passed explicitly.\n",
    "It may or may not return any data.\n",
    "Function does not deal with Class and its instance concept.\n",
    "\n",
    "\n",
    "##Method\n",
    "\n",
    "Method is called by its name, but it is associated to an object (dependent).\n",
    "A method is implicitly passed the object on which it is invoked.\n",
    "It may or may not return any data.\n",
    "A method can operate on the data (instance variables) that is contained by the corresponding class"
   ]
  },
  {
   "cell_type": "markdown",
   "metadata": {},
   "source": [
    "#Question 4\n",
    "\n",
    "Class:\n",
    "A class is a user defined blueprint or prototype from which objects are created. It represents the set of properties or methods that are common to all objects of one type.\n",
    "\n",
    "Object:\n",
    "Object is simply a collection of data (variables) and methods (functions) that act on those data. And, class is a blueprint for the object.\n",
    "\n",
    "Attiributes:\n",
    "Everything in Python is an object, and almost everything has attributes and methods. In python, functions too are objects. So they have attributes like other objects. All functions have a built-in attribute __doc__, which returns the doc string defined in the function source code\n",
    "\n",
    "Behavior:\n",
    "Object Behavior and Special Methods. Objects in Python are generally classified according to their behaviors and the features that they implement\n"
   ]
  },
  {
   "cell_type": "code",
   "execution_count": 2,
   "metadata": {},
   "outputs": [
    {
     "name": "stdout",
     "output_type": "stream",
     "text": [
      "No\n",
      "20 kilometers per liter\n",
      "The car name is audi. Model of car A8 and car color is brown\n"
     ]
    },
    {
     "data": {
      "text/plain": [
       "'Lamborghini'"
      ]
     },
     "execution_count": 2,
     "metadata": {},
     "output_type": "execute_result"
    }
   ],
   "source": [
    "class Car():\n",
    "    def __init__(self,name,model,color):\n",
    "        self.name = name\n",
    "        self.model = model\n",
    "        self.color = color\n",
    "        \n",
    "    def average(self,kilo):\n",
    "        print(\"{} kilometers per liter\".format(kilo))\n",
    "        \n",
    "    def tank(self):\n",
    "        print(\"yes\")\n",
    "        \n",
    "class Electric_car(Car):\n",
    "    def __init__(self,name,model,color):\n",
    "        super().__init__(name,model,color)\n",
    "    \n",
    "    def tank(self):\n",
    "        print(\"No\")\n",
    "        \n",
    "    def get_description(self):\n",
    "        print(\"The car name is {}. Model of car {} and car color is {}\".format(self.name,self.model,self.color))\n",
    "        \n",
    "car1 = Car('audi','A3','black')\n",
    "\n",
    "new_car = Electric_car('audi','A8','brown')\n",
    "\n",
    "new_car.tank()\n",
    "new_car.average(20)\n",
    "new_car.get_description()\n",
    "\n",
    "car1.name\n",
    "car1.name = 'Lamborghini'\n",
    "car1.name"
   ]
  },
  {
   "cell_type": "code",
   "execution_count": 3,
   "metadata": {},
   "outputs": [
    {
     "name": "stdout",
     "output_type": "stream",
     "text": [
      "30 kilometers per Liter\n",
      "30 kilometers per Liter\n",
      "35 kilometers per Liter\n"
     ]
    }
   ],
   "source": [
    "class NewCar():\n",
    "    def __init__(self):\n",
    "        self.__maxAverage = 30\n",
    "        \n",
    "    def average(self):\n",
    "        print(\"{} kilometers per Liter\".format(self.__maxAverage))\n",
    "        \n",
    "    def updateAverage(self,updated_value):\n",
    "        self.__maxAverage = updated_value\n",
    "        \n",
    "obj = NewCar()\n",
    "\n",
    "obj.average()\n",
    "\n",
    "obj.__maxAverage = 60\n",
    "\n",
    "obj.average()\n",
    "\n",
    "obj.updateAverage(35)\n",
    "\n",
    "obj.average()\n",
    "        "
   ]
  },
  {
   "cell_type": "code",
   "execution_count": null,
   "metadata": {},
   "outputs": [],
   "source": []
  }
 ],
 "metadata": {
  "kernelspec": {
   "display_name": "Python 3",
   "language": "python",
   "name": "python3"
  },
  "language_info": {
   "codemirror_mode": {
    "name": "ipython",
    "version": 3
   },
   "file_extension": ".py",
   "mimetype": "text/x-python",
   "name": "python",
   "nbconvert_exporter": "python",
   "pygments_lexer": "ipython3",
   "version": "3.7.3"
  }
 },
 "nbformat": 4,
 "nbformat_minor": 2
}

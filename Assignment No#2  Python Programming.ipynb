{
 "cells": [
  {
   "cell_type": "code",
   "execution_count": 18,
   "metadata": {},
   "outputs": [
    {
     "name": "stdout",
     "output_type": "stream",
     "text": [
      "Please Enter Your Obtained Accounting Numbers  55\n",
      "Please Enter Your Obtained Economics Numbers  66\n",
      "Please Enter your Obtained Maths Numbers  80\n",
      "Please Enter your Obtained English Numbers  50\n",
      "Please Enter your obtained Chemistry Numbers  55\n",
      "\n",
      " Total Numbers Obtained In Each Subject: \n",
      "\n",
      " Your Numbers in Accounting = 55 \n",
      " Your Numbers in Economics = 66 \n",
      " Your Numbers in Maths = 80 \n",
      " Your Numbers in English = 50 \n",
      " Your Numbers in Chemistry = 55\n",
      " \n",
      " Your Total Marksheet % is : 61.2\n",
      "\n",
      " Grade:\n",
      "\n",
      " A Grade\n"
     ]
    }
   ],
   "source": [
    "#Question No#1\n",
    "sub_1 = int(input(\"Please Enter Your Obtained Accounting Numbers  \"))\n",
    "sub_2 = int(input(\"Please Enter Your Obtained Economics Numbers  \"))\n",
    "sub_3 = int(input(\"Please Enter your Obtained Maths Numbers  \"))\n",
    "sub_4 = int(input(\"Please Enter your Obtained English Numbers  \"))\n",
    "sub_5 = int(input(\"Please Enter your obtained Chemistry Numbers  \"))\n",
    "\n",
    "#Obtained Numbers\n",
    "obtained_numbers = (f'\\n Your Numbers in Accounting = {sub_1} \\n Your Numbers in Economics = {sub_2} \\n Your Numbers in Maths = {sub_3} \\n Your Numbers in English = {sub_4} \\n Your Numbers in Chemistry = {sub_5}')\n",
    "\n",
    "#Total Numbers Obtained in Each Subject\n",
    "print(\"\\n Total Numbers Obtained In Each Subject: \")\n",
    "\n",
    "#Numbers Obtained      \n",
    "print(obtained_numbers)\n",
    "\n",
    "                  \n",
    "marksheet_total = (sub_1 + sub_2 + sub_3 + sub_4 + sub_5)/5\n",
    "\n",
    "print(f' \\n Your Total Marksheet % is : {marksheet_total}')\n",
    "\n",
    "print(\"\\n Grade:\")\n",
    "\n",
    "if marksheet_total >= 90:\n",
    "    print(\"\\n A+ Grade\")\n",
    "elif marksheet_total >= 80 or marksheet_total <= 70:\n",
    "    print(\"\\n A Grade\")\n",
    "elif marksheet_total >= 60 or  marksheet_total <= 50:\n",
    "    print(\"\\n B Grade\")\n",
    "else:\n",
    "    print(\"\\n Sorry! You don't get passing marks so have Failed in Exam\")"
   ]
  },
  {
   "cell_type": "code",
   "execution_count": 42,
   "metadata": {},
   "outputs": [
    {
     "name": "stdout",
     "output_type": "stream",
     "text": [
      "Please enter your favourite number = 5\n",
      " \n",
      " Your Selected Number is 5 and it is an \"ODD\" Number\n"
     ]
    }
   ],
   "source": [
    "#Question No #2\n",
    "number = int(input(\"Please enter your favourite number = \"))\n",
    "\n",
    "if  number % 2 == 0:\n",
    "    print(f' \\n Your Selected Number is {number} and it is an \"EVEN\" Number')\n",
    "else:\n",
    "    print(f' \\n Your Selected Number is {number} and it is an \"ODD\" Number')"
   ]
  },
  {
   "cell_type": "code",
   "execution_count": 40,
   "metadata": {},
   "outputs": [
    {
     "name": "stdout",
     "output_type": "stream",
     "text": [
      " Your List is consist of 6 characters\n"
     ]
    }
   ],
   "source": [
    "#Question No#3\n",
    "list1 = [1,6,True,\"False\",'ss',6]\n",
    "print (f\" Your List is consist of {len(list1)} characters\")"
   ]
  },
  {
   "cell_type": "code",
   "execution_count": 45,
   "metadata": {},
   "outputs": [
    {
     "name": "stdout",
     "output_type": "stream",
     "text": [
      " The Total sum of list= 9365\n"
     ]
    }
   ],
   "source": [
    "#Question No#4\n",
    "list=[82,241,3893,4,5145]\n",
    "x=len(list)\n",
    "sum=0\n",
    "for i in range (x):\n",
    "    sum=sum+list[i]\n",
    "print(f\" The Total sum of list= {sum}\")"
   ]
  },
  {
   "cell_type": "code",
   "execution_count": 47,
   "metadata": {},
   "outputs": [
    {
     "name": "stdout",
     "output_type": "stream",
     "text": [
      "The Max Value is: 281\n"
     ]
    }
   ],
   "source": [
    "#Questin No#5\n",
    "list=[242,281,43,44,80]\n",
    "print(f'The Max Value is: {max(list)}')"
   ]
  },
  {
   "cell_type": "code",
   "execution_count": 36,
   "metadata": {},
   "outputs": [
    {
     "name": "stdout",
     "output_type": "stream",
     "text": [
      "1\n",
      "1\n",
      "2\n",
      "3\n"
     ]
    }
   ],
   "source": [
    "#Question No#6\n",
    "list=[1,1,2,3,5,8,13,21,34,55,89]\n",
    "x=len(list)\n",
    "for i in range(x):\n",
    "    if list[i]<5:\n",
    "        print(list[i])"
   ]
  },
  {
   "cell_type": "code",
   "execution_count": null,
   "metadata": {},
   "outputs": [],
   "source": []
  },
  {
   "cell_type": "code",
   "execution_count": null,
   "metadata": {},
   "outputs": [],
   "source": []
  }
 ],
 "metadata": {
  "kernelspec": {
   "display_name": "Python 3",
   "language": "python",
   "name": "python3"
  }
 },
 "nbformat": 4,
 "nbformat_minor": 2
}
